{
 "cells": [
  {
   "cell_type": "markdown",
   "id": "7369ee3f",
   "metadata": {},
   "source": [
    "# Ember Elektrik Verilerinin Okunması\n",
    "\n",
    "Barış Sanlı, barissanli2@gmail.com\n",
    "\n",
    "Ember'in birçok ülkenin aylık ve yıllık elektrik ve iklim verilerinin okunması için bir taslak"
   ]
  },
  {
   "cell_type": "code",
   "execution_count": 1,
   "id": "ec2ec662",
   "metadata": {},
   "outputs": [],
   "source": [
    "# Ana web sitesi: https://ember-climate.org/data-catalogue/monthly-electricity-data/\n",
    "# veri adresi yıl ve aylara göre değişiyor /YIL/AY/\n",
    "# https://ember-climate.org/app/uploads/2022/07/monthly_full_release_long_format.csv"
   ]
  },
  {
   "cell_type": "code",
   "execution_count": 4,
   "id": "49c6897a",
   "metadata": {},
   "outputs": [],
   "source": [
    "%matplotlib inline\n",
    "import pandas as pd\n",
    "import requests \n",
    "from urllib.request import urlopen\n",
    "\n",
    "link=\"https://ember-climate.org/app/uploads/2022/07/monthly_full_release_long_format.csv\"\n",
    "\n",
    "\n",
    "# orjinal kod : https://stackoverflow.com/questions/65020294/downloading-a-zipped-file-using-python-3-7\n",
    "\n",
    "def download_url(url, save_path, chunk_size=128):\n",
    "    r = requests.get(url, stream=True)\n",
    "    with open(save_path, 'wb') as fd:\n",
    "        for chunk in r.iter_content(chunk_size=chunk_size):\n",
    "            fd.write(chunk)\n",
    "\n",
    "            \n",
    "#ilk sefer indir, ikinci çalışmada tekrar tekrar indirmeye gerek kalmasın\n",
    "download_url(link,\"./ember.csv\")"
   ]
  },
  {
   "cell_type": "code",
   "execution_count": 5,
   "id": "ca2c2fee",
   "metadata": {},
   "outputs": [],
   "source": [
    "df = pd.read_csv('ember.csv')\n",
    "#df = pd.read_csv(link)"
   ]
  },
  {
   "cell_type": "code",
   "execution_count": 23,
   "id": "7a0f4742",
   "metadata": {},
   "outputs": [
    {
     "data": {
      "text/plain": [
       "Index(['Area', 'Country code', 'Date', 'Area type', 'Continent',\n",
       "       'Ember region', 'EU', 'OECD', 'G20', 'G7', 'Category', 'Subcategory',\n",
       "       'Variable', 'Unit', 'Value', 'YoY absolute change', 'YoY % change'],\n",
       "      dtype='object')"
      ]
     },
     "execution_count": 23,
     "metadata": {},
     "output_type": "execute_result"
    }
   ],
   "source": [
    "df.columns"
   ]
  },
  {
   "cell_type": "code",
   "execution_count": 24,
   "id": "6781d7e4",
   "metadata": {},
   "outputs": [
    {
     "data": {
      "text/plain": [
       "array(['Argentina', 'Armenia', 'Asia', 'Australia', 'Austria',\n",
       "       'Azerbaijan', 'Bangladesh', 'Belarus', 'Belgium', 'Bolivia',\n",
       "       'Bosnia Herzegovina', 'Brazil', 'Bulgaria', 'Burundi', 'Canada',\n",
       "       'Chile', 'China', 'Costa Rica', 'Croatia', 'Cyprus', 'Czechia',\n",
       "       'Denmark', 'Ecuador', 'Egypt', 'El Salvador', 'Estonia', 'EU',\n",
       "       'Europe', 'Finland', 'France', 'G20', 'G7', 'Georgia', 'Germany',\n",
       "       'Greece', 'Hungary', 'India', 'Ireland', 'Italy', 'Japan', 'Kenya',\n",
       "       'Kosovo', 'Latin America and Caribbean', 'Latvia', 'Lithuania',\n",
       "       'Luxembourg', 'Malta', 'Mexico', 'Moldova', 'Mongolia',\n",
       "       'Montenegro', 'Netherlands', 'New Zealand', 'North America',\n",
       "       'North Macedonia', 'Norway', 'OECD', 'Pakistan', 'Peru',\n",
       "       'Philippines (the)', 'Poland', 'Portugal', 'Romania',\n",
       "       'Russian Federation (the)', 'Senegal', 'Serbia', 'Singapore',\n",
       "       'Slovakia', 'Slovenia', 'South Africa', 'South Korea', 'Spain',\n",
       "       'Sweden', 'Switzerland', 'Taiwan', 'Tajikistan', 'Thailand',\n",
       "       'Tunisia', 'Turkey', 'Ukraine', 'United Kingdom',\n",
       "       'United States of America', 'Uruguay', 'Viet Nam', 'World'],\n",
       "      dtype=object)"
      ]
     },
     "execution_count": 24,
     "metadata": {},
     "output_type": "execute_result"
    }
   ],
   "source": [
    "df.Area.unique()"
   ]
  },
  {
   "cell_type": "code",
   "execution_count": 25,
   "id": "e21111a3",
   "metadata": {},
   "outputs": [
    {
     "data": {
      "text/plain": [
       "array(['Demand', 'Clean', 'Fossil', 'Gas and Other Fossil',\n",
       "       'Hydro, Bioenergy and Other Renewables', 'Renewables',\n",
       "       'Wind and Solar', 'Bioenergy', 'Coal', 'Gas', 'Hydro', 'Nuclear',\n",
       "       'Other Fossil', 'Solar', 'Wind', 'Total Generation', 'Net Imports',\n",
       "       'CO2 intensity', 'Total emissions', 'Other Renewables',\n",
       "       'Day-ahead electricity price'], dtype=object)"
      ]
     },
     "execution_count": 25,
     "metadata": {},
     "output_type": "execute_result"
    }
   ],
   "source": [
    "df.Variable.unique()"
   ]
  },
  {
   "cell_type": "code",
   "execution_count": 10,
   "id": "910f49b5",
   "metadata": {},
   "outputs": [],
   "source": [
    "ulke=df[(df.Area=='Turkey') & (df.Variable=='Demand')]"
   ]
  },
  {
   "cell_type": "code",
   "execution_count": 15,
   "id": "01eadba3",
   "metadata": {},
   "outputs": [],
   "source": [
    "plt.rcParams[\"figure.figsize\"]=[12.0,6.0]"
   ]
  },
  {
   "cell_type": "code",
   "execution_count": 17,
   "id": "21cd6a32",
   "metadata": {},
   "outputs": [
    {
     "data": {
      "text/plain": [
       "Text(0, 0.5, 'TWh')"
      ]
     },
     "execution_count": 17,
     "metadata": {},
     "output_type": "execute_result"
    },
    {
     "data": {
      "image/png": "[encoded data removed]",
      "text/plain": [
       "<Figure size 864x432 with 1 Axes>"
      ]
     },
     "metadata": {
      "needs_background": "light"
     },
     "output_type": "display_data"
    }
   ],
   "source": [
    "xticks(rotation=90)\n",
    "plot(ulke.Date, ulke.Value.rolling(12).sum())\n",
    "title(\"Türkiye'nin 12 aylık toplamsal elektrik talebi\")\n",
    "ylabel(\"TWh\")"
   ]
  },
  {
   "cell_type": "code",
   "execution_count": 20,
   "id": "77ccb517",
   "metadata": {},
   "outputs": [
    {
     "data": {
      "text/html": [
       "<div>\n",
       "<style scoped>\n",
       "    .dataframe tbody tr th:only-of-type {\n",
       "        vertical-align: middle;\n",
       "    }\n",
       "\n",
       "    .dataframe tbody tr th {\n",
       "        vertical-align: top;\n",
       "    }\n",
       "\n",
       "    .dataframe thead th {\n",
       "        text-align: right;\n",
       "    }\n",
       "</style>\n",
       "<table border=\"1\" class=\"dataframe\">\n",
       "  <thead>\n",
       "    <tr style=\"text-align: right;\">\n",
       "      <th></th>\n",
       "      <th>Date</th>\n",
       "      <th>Value</th>\n",
       "    </tr>\n",
       "  </thead>\n",
       "  <tbody>\n",
       "    <tr>\n",
       "      <th>303852</th>\n",
       "      <td>2022-04-01</td>\n",
       "      <td>25.68</td>\n",
       "    </tr>\n",
       "    <tr>\n",
       "      <th>303902</th>\n",
       "      <td>2022-05-01</td>\n",
       "      <td>25.12</td>\n",
       "    </tr>\n",
       "    <tr>\n",
       "      <th>303952</th>\n",
       "      <td>2022-06-01</td>\n",
       "      <td>27.00</td>\n",
       "    </tr>\n",
       "  </tbody>\n",
       "</table>\n",
       "</div>"
      ],
      "text/plain": [
       "              Date  Value\n",
       "303852  2022-04-01  25.68\n",
       "303902  2022-05-01  25.12\n",
       "303952  2022-06-01  27.00"
      ]
     },
     "execution_count": 20,
     "metadata": {},
     "output_type": "execute_result"
    }
   ],
   "source": [
    "ulke[[\"Date\",\"Value\"]].tail(3)"
   ]
  },
  {
   "cell_type": "code",
   "execution_count": null,
   "id": "b083b16a",
   "metadata": {},
   "outputs": [],
   "source": []
  }
 ],
 "metadata": {
  "kernelspec": {
   "display_name": "Python 3 (ipykernel)",
   "language": "python",
   "name": "python3"
  },
  "language_info": {
   "codemirror_mode": {
    "name": "ipython",
    "version": 3
   },
   "file_extension": ".py",
   "mimetype": "text/x-python",
   "name": "python",
   "nbconvert_exporter": "python",
   "pygments_lexer": "ipython3",
   "version": "3.9.13"
  }
 },
 "nbformat": 4,
 "nbformat_minor": 5
}
