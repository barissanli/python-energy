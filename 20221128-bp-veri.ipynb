{
 "cells": [
  {
   "cell_type": "code",
   "execution_count": 1,
   "id": "1da22db5",
   "metadata": {},
   "outputs": [],
   "source": [
    "# interaktif kod kısmı\n",
    "# https://stackoverflow.com/questions/69888942/interactive-plotly-boxplot-with-ipywidgets"
   ]
  },
  {
   "cell_type": "markdown",
   "id": "44b1cc8d",
   "metadata": {},
   "source": [
    "## BP Enerji İstatistiklerinden Veri Okuma ve Etkileşimli Grafik\n",
    "Barış Sanlı, [barissanli.com](barissanli.com) , [github.com/barissanli](github.com/barissanli)"
   ]
  },
  {
   "cell_type": "code",
   "execution_count": 2,
   "id": "8b52f041",
   "metadata": {},
   "outputs": [],
   "source": [
    "import pandas as pd\n",
    "import plotly.graph_objects as go\n",
    "import plotly.express as px\n",
    "from ipywidgets import widgets\n",
    "from ipywidgets import interact"
   ]
  },
  {
   "cell_type": "code",
   "execution_count": 3,
   "id": "616fb874",
   "metadata": {},
   "outputs": [],
   "source": [
    "bplink=\"https://www.bp.com/content/dam/bp/business-sites/en/global/corporate/xlsx/energy-economics/\"\n",
    "csvlink=\"statistical-review/bp-stats-review-2022-consolidated-dataset-narrow-format.csv\"\n",
    "bplink=bplink+csvlink"
   ]
  },
  {
   "cell_type": "code",
   "execution_count": 4,
   "id": "86b64692",
   "metadata": {},
   "outputs": [],
   "source": [
    "veri=pd.read_csv(bplink)   # dikkat veri 18 MB, yüklemek zaman alıyor"
   ]
  },
  {
   "cell_type": "code",
   "execution_count": 5,
   "id": "23649637",
   "metadata": {},
   "outputs": [
    {
     "data": {
      "application/vnd.jupyter.widget-view+json": {
       "model_id": "42e677c1aed344bd8ae6c3bb4a591bb9",
       "version_major": 2,
       "version_minor": 0
      },
      "text/plain": [
       "interactive(children=(Dropdown(description='Ülke:', index=75, options=('Brazil', 'Other North America', 'Other…"
      ]
     },
     "metadata": {},
     "output_type": "display_data"
    }
   ],
   "source": [
    "@interact\n",
    "def view_image(\n",
    "    ulke=widgets.Dropdown(description=\"Ülke:\", value=\"Turkey\", options=veri['Country'].unique()),\n",
    "    kaynak=widgets.Dropdown(description=\"Kaynak:\", value=\"primary_ej\", options=veri['Var'].unique())\n",
    "):\n",
    "    tmp= veri[(veri.Country==ulke) & (veri.Var==kaynak)]\n",
    "\n",
    "    fig = px.line(tmp, x=\"Year\", y=\"Value\", title=\" \" + ulke + \" - \" + kaynak, labels={\"Value\":kaynak})\n",
    "    go.FigureWidget(fig.to_dict()).show()"
   ]
  }
 ],
 "metadata": {
  "kernelspec": {
   "display_name": "Python 3 (ipykernel)",
   "language": "python",
   "name": "python3"
  },
  "language_info": {
   "codemirror_mode": {
    "name": "ipython",
    "version": 3
   },
   "file_extension": ".py",
   "mimetype": "text/x-python",
   "name": "python",
   "nbconvert_exporter": "python",
   "pygments_lexer": "ipython3",
   "version": "3.9.13"
  }
 },
 "nbformat": 4,
 "nbformat_minor": 5
}
